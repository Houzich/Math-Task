{
 "cells": [
  {
   "cell_type": "code",
   "execution_count": 1,
   "metadata": {},
   "outputs": [],
   "source": [
    "import matplotlib.pyplot as plt\n",
    "import matplotlib.pylab as pylab\n",
    "import numpy as np\n",
    "import math\n",
    "# mathplotlib, numpy, math, skimage"
   ]
  },
  {
   "cell_type": "markdown",
   "metadata": {},
   "source": [
    "# Сгенерировать массив из 100 значений, которые представляют собой выборку из нормального распределения с мат.ожиданием = 0 и дисперсией = 1."
   ]
  },
  {
   "cell_type": "code",
   "execution_count": 2,
   "metadata": {},
   "outputs": [
    {
     "data": {
      "image/png": "[encoded data removed]",
      "text/plain": [
       "<Figure size 504x360 with 1 Axes>"
      ]
     },
     "metadata": {},
     "output_type": "display_data"
    }
   ],
   "source": [
    "mu = 0 #математическое ожидание\n",
    "sigma  = 1 #среднеквадратическое отклонение\n",
    "SamplesArr = np.random.normal(mu, sigma, size=100)\n",
    "\n",
    "#гистограмма\n",
    "pylab.rcParams['figure.figsize'] = (7.0, 5.0)\n",
    "plt.hist(SamplesArr, bins = 30)\n",
    "plt.show()"
   ]
  },
  {
   "cell_type": "markdown",
   "metadata": {},
   "source": [
    "# Проквантовать равномерным скалярным квантователем с переменной скоростью. Количество квантов: от 7 до 9 на выбор студента."
   ]
  },
  {
   "cell_type": "code",
   "execution_count": 3,
   "metadata": {},
   "outputs": [
    {
     "data": {
      "image/png": "[encoded data removed]",
      "text/plain": [
       "<Figure size 1440x504 with 2 Axes>"
      ]
     },
     "metadata": {},
     "output_type": "display_data"
    }
   ],
   "source": [
    "#функция равномерного скалярного квантования с переменной скоростью, возврашает отквантованный\n",
    "#массив quant_samples, массив аппроксимирующих значений y_arr, массив границ квантов t_arr и\n",
    "#шаг квантования step\n",
    "# samples - исходный массив\n",
    "# m - кол-во квантов\n",
    "def uniform_quant(samples,m):\n",
    "    # Чтобы рассчитать шаг квантования воспользуемся формулой step = (x_max - x_min)/m\n",
    "    # где x_max - максимальное значение во входном массиве;\n",
    "    # x_min - минимальное значение во входном массиве;\n",
    "    # m – число уровней квантования(кол-во квантов).\n",
    "    x_max = np.max(samples)\n",
    "    x_min = np.min(samples)\n",
    "    step = (x_max - x_min)/m\n",
    "\n",
    "    #Создадим массив содержащий границы квантов согласно шагу квантования,\n",
    "    #этот масив на 1 больше чем число квантов\n",
    "    t_arr = np.zeros(m + 1)\n",
    "    for i in range(t_arr.size):\n",
    "        t_arr[i] = x_min + step*i    \n",
    "\n",
    "\n",
    "    #Создадим массив аппроксимирующих значений\n",
    "    #Апроксимирующие значения, исключая крайние, размешают в середине квантов\n",
    "    y_arr = np.zeros(m)\n",
    "    y_arr[0] = np.min(t_arr)\n",
    "    y_arr[-1] = np.max(t_arr)\n",
    "    for i in range(1,y_arr.size-1):\n",
    "        y_arr[i] = (t_arr[i+1] + t_arr[i])/2      \n",
    "\n",
    "    #Квантуем значения исходного массива ближайшими аппроксимирующими значениями\n",
    "    quant_samples = np.zeros_like(samples)\n",
    "    for i in range(SamplesArr.size):\n",
    "        idx = (np.abs(y_arr - samples[i])).argmin()\n",
    "        quant_samples[i] = y_arr[idx] \n",
    "            \n",
    "    return quant_samples, y_arr, t_arr, step\n",
    " \n",
    "UniformQuantArr,YArr,TArr,Step =  uniform_quant(SamplesArr,8)   \n",
    "    \n",
    "\n",
    "# print(\"Исходный массив:\\n\",SamplesArr)\n",
    "# print(\"Шаг квантования: \",Step)\n",
    "# print(\"Границы квантования: \",TArr)\n",
    "# print(\"Апроксимирующие значения: \",YArr)\n",
    "# print(\"Проквантованный:\\n\",UniformQuantArr)\n",
    "\n",
    "pylab.rcParams['figure.figsize'] = (20.0, 7.0)\n",
    "plt.subplot(121)\n",
    "plt.hist(SamplesArr, 30)\n",
    "plt.subplot(122)\n",
    "plt.hist(UniformQuantArr, 30)\n",
    "plt.show()"
   ]
  },
  {
   "cell_type": "markdown",
   "metadata": {},
   "source": [
    "# Найти среднеквадратичную ошибку и энтропию"
   ]
  },
  {
   "cell_type": "code",
   "execution_count": 4,
   "metadata": {},
   "outputs": [
    {
     "name": "stdout",
     "output_type": "stream",
     "text": [
      "Среднеквадратичная ошибка:  0.034237319987747844\n"
     ]
    }
   ],
   "source": [
    "# MSE (среднеквадратичная ошибка) :   \n",
    "MSE = np.sum((SamplesArr - UniformQuantArr)**2)/SamplesArr.size \n",
    "print(\"Среднеквадратичная ошибка: \", MSE)                                  "
   ]
  },
  {
   "cell_type": "markdown",
   "metadata": {},
   "source": [
    "Для вычисления энтропии квантованного сигнала применим следующую формулу:\n",
    "$$\n",
    "H = -\\sum_{i=0}^{n}P(x_{i})\\log(P(x_{i})) \n",
    "$$                                        \n",
    "Вероятность появления уровней квантования при нормальном распределении определяется по формуле:\n",
    "$$\n",
    "P(x_{i}) = \\frac{1}{\\sigma\\sqrt{2\\pi }}\\exp\\left (\\frac{-\\left (x_{i} - m  \\right )^{2}}{2\\sigma^{2}}  \\right )\n",
    "$$\n",
    "где $x_{i}$ - значение квантованного сигнала, $\\sigma$ - среднеквадратическое отклонение, m - математическое ожидание\n"
   ]
  },
  {
   "cell_type": "code",
   "execution_count": 5,
   "metadata": {},
   "outputs": [
    {
     "name": "stdout",
     "output_type": "stream",
     "text": [
      "Энтропия исходного массива 47.666382033709965\n",
      "Энтропия квантованного массива 47.763577132684645\n"
     ]
    }
   ],
   "source": [
    "def probability_density(x):\n",
    "    mu = np.mean(x) #вычисляем математическое ожидание для массива\n",
    "    sigma = np.std(x, ddof=1) #вычисляем среднеквадратическое отклонение для массива\n",
    "    result = np.exp( - (x - mu)**2 / (2 * sigma**2))\n",
    "    result *= 1/(sigma * np.sqrt(2 * np.pi))\n",
    "    return result\n",
    "\n",
    "def entropy(x):\n",
    "    p = probability_density(x)\n",
    "    result = -np.sum(p*np.log2(p))\n",
    "    return result\n",
    "\n",
    "print(\"Энтропия исходного массива\",entropy(SamplesArr))\n",
    "print(\"Энтропия квантованного массива\",entropy(UniformQuantArr))"
   ]
  },
  {
   "cell_type": "markdown",
   "metadata": {},
   "source": [
    "# Реализовать оптимальный вариант (с меньшей среднеквадратичной ошибкой) квантователя. Количество квантов: такое же как в предыдущей части задания. "
   ]
  },
  {
   "cell_type": "markdown",
   "metadata": {},
   "source": [
    "Пусть число квантов равно L, а все кванты имеют одинаковую длину $\\Delta$ и аппроксимирующие значения берутся в середине кванта: $y_{i} = t_{i}+\\Delta/2$. Тогда ошибка квантования $\\varepsilon _{X}^{2}$ зависит только от двух параметров: от длины кванта $\\Delta$ и одной из границ, вкажем $t_{1}$. Если искать указанные два параметра из условия, чтобы $\\varepsilon _{X}^{2}$ была минимальной, то получиться квантование которое называется оптимальным равномерным квантованием."
   ]
  },
  {
   "cell_type": "code",
   "execution_count": 6,
   "metadata": {},
   "outputs": [
    {
     "name": "stdout",
     "output_type": "stream",
     "text": [
      "Ошибка квантования:\n",
      " 0.034237319987747844\n",
      "Ошибка квантования оптимальный:\n",
      " 0.03281881332130963\n"
     ]
    }
   ],
   "source": [
    "# квантуем массив по нижней границе t_min и шагу step\n",
    "def adaptive_uniform_quant_samples(samples, m, t_min, step):\n",
    "    #Создадим массив содержащий границы квантов согласно шагу квантования,\n",
    "    #этот масив на 1 больше чем число квантов\n",
    "    t_arr = np.zeros(m + 1)\n",
    "    for i in range(t_arr.size):\n",
    "        t_arr[i] = t_min + step*i    \n",
    "\n",
    "    #Создадим массив аппроксимирующих значений\n",
    "    #Апроксимирующие значения, исключая крайние, размешают в середине квантов\n",
    "    y_arr = np.zeros(m)\n",
    "    y_arr[0] = np.min(t_arr)\n",
    "    y_arr[-1] = np.max(t_arr)\n",
    "    for i in range(1,y_arr.size-1):\n",
    "        y_arr[i] = (t_arr[i+1] + t_arr[i])/2      \n",
    "\n",
    "    #Квантуем значения исходного массива ближайшими аппроксимирующими значениями\n",
    "    quant_samples = np.zeros_like(samples)\n",
    "    for i in range(SamplesArr.size):\n",
    "        idx = (np.abs(y_arr - samples[i])).argmin()\n",
    "        quant_samples[i] = y_arr[idx] \n",
    "            \n",
    "    return quant_samples, y_arr, t_arr\n",
    "\n",
    "#определяет оптимальный по среднеквадратичной ошибке шаг квантования\n",
    "def adaptive_step(samples, m, t_min, step, mse):   \n",
    "    while(1):\n",
    "        #уменьшаем шаг квантования\n",
    "        step = step - step/1000\n",
    "        quant_samples,_ ,_ =  adaptive_uniform_quant_samples(samples, m, t_min, step)        \n",
    "        old_mse = mse\n",
    "        mse = np.sum((samples - quant_samples)**2)/samples.size\n",
    "        #если ошибка уже не уменьшается, то возврашаем шаг обратно и выходим из цикла\n",
    "        if (mse>old_mse): \n",
    "            step = step + step/1000 \n",
    "            break           \n",
    "    return step, old_mse\n",
    "\n",
    "#определяет оптимальную по среднеквадратичной ошибке нижнюю границу квантования\n",
    "def adaptive_min(samples, m, t_min, step, mse):   \n",
    "    while(1):\n",
    "        t_min = t_min + step/1000\n",
    "        quant_samples,_ ,_ =  adaptive_uniform_quant_samples(samples, m, t_min, step)        \n",
    "        old_mse = mse\n",
    "        mse = np.sum((samples - quant_samples)**2)/samples.size\n",
    "        if (mse>old_mse): \n",
    "            t_min = t_min - step/1000 \n",
    "            break           \n",
    "    return t_min, old_mse\n",
    "\n",
    "\n",
    "# samples - исходный массив\n",
    "# m - кол-во квантов\n",
    "def adaptive_uniform_quant(samples,m):\n",
    "    #изначально квантуем массив равномерным квантователем\n",
    "    quant_samples, y_arr, t_arr, step =  uniform_quant(samples,m)    \n",
    "    #определяем ошибку квантования\n",
    "    mse = np.sum((samples - quant_samples)**2)/samples.size\n",
    "    t_min = np.min(samples) #определяем первую границу квантования\n",
    "    \n",
    "    while(1):\n",
    "        old_mse = mse\n",
    "        #сначала будем уменьшать шаг квантования\n",
    "        step,mse = adaptive_step(samples, m, t_min, step, mse)\n",
    "        #потом двигать\n",
    "        t_min,mse = adaptive_min(samples, m, t_min, step, mse)\n",
    "        #если среднеквадратичная ошибка уже не уменьшается, то выходим\n",
    "        if (mse>=old_mse): \n",
    "            break \n",
    "        \n",
    "    quant_samples,_ ,_ =  adaptive_uniform_quant_samples(samples, m, t_min, step)    \n",
    "    return quant_samples\n",
    "        \n",
    "\n",
    "AdaptiveUniformQuantArr =  adaptive_uniform_quant(SamplesArr, 8)\n",
    "AdaptiveMSE = np.sum((SamplesArr - AdaptiveUniformQuantArr)**2)/SamplesArr.size \n",
    "\n",
    "print(\"Ошибка квантования:\\n\",MSE)\n",
    "print(\"Ошибка квантования оптимальный:\\n\",AdaptiveMSE)"
   ]
  },
  {
   "cell_type": "markdown",
   "metadata": {},
   "source": [
    "# Использовать неравномерный скалярный квантователь построенный по алгоритму Ллойда-Макса "
   ]
  },
  {
   "cell_type": "markdown",
   "metadata": {},
   "source": [
    "### Вспомогательные переменные"
   ]
  },
  {
   "cell_type": "markdown",
   "metadata": {},
   "source": [
    "M - размер исходной выборки; <br />\n",
    "N - количество квантов; <br />\n",
    "k - номер текущей итерации алгоритма; <br />\n",
    "t_arr - пороговые значения квантователя на итерации k; <br />\n",
    "y_arr - апроксимирующие значения квантователя на итерации k; <br />\n",
    "Q_arr - содержит кол-во элементов из исходной выборки, которые попадают в i-й квант на итерации k; <br />\n",
    "T - предустановленный порог для ошибки квантования; <br />\n",
    "de - предустановленный порог для разности ошибок квантования на текущей (k) и предыдущей (k-1) итерациях; <br />\n",
    "Tk - предустановленный порог для максимального числа итераций; <br />"
   ]
  },
  {
   "cell_type": "markdown",
   "metadata": {},
   "source": [
    "### Инициализация"
   ]
  },
  {
   "cell_type": "markdown",
   "metadata": {},
   "source": [
    "t_arr - пороговые значения квантователя на итерации k. <br />\n",
    "Определение начальных значений t_arr. <br />\n",
    "Начальные значения можно задать произвольным образом, но так, чтобы выполнялось два условия:\n",
    "$$\n",
    "t_{i-1}< t_{i}\n",
    "$$\n",
    "$$\n",
    "\\left | Q_{i}(x) \\right | \\neq 0  \\qquad  \\forall  = 1,...,N\n",
    "$$\n",
    "Последнее условие означает, что в каждый квант должно попасть как минимум одно значение из исходной выборки $\\left \\{ x_{j} \\right \\}$"
   ]
  },
  {
   "cell_type": "code",
   "execution_count": 7,
   "metadata": {},
   "outputs": [],
   "source": [
    "#установка значений границ квантов\n",
    "def initial_values_bounds(source_arr, num_quant):\n",
    "    #порогов на 1 больше. к примеру 2 кванта, три пороговых значения: (1)минимальное - (2)промежуточное - (3)максимальное\n",
    "    t_arr = np.zeros(num_quant+1) \n",
    "    t_arr[0] = np.min(source_arr)\n",
    "    t_arr[-1] = np.max(source_arr)\n",
    "    step = (t_arr[-1]-t_arr[0])/(t_arr.size-1)\n",
    "    \n",
    "    for i in range(t_arr.size):\n",
    "        t_arr[i] = t_arr[0] + i*step\n",
    "    return t_arr\n",
    "\n",
    "def lloid_init(source_arr, num_quant):\n",
    "    arr = np.sort(source_arr)\n",
    "    #устанавливаем значения границ квантов\n",
    "    t_arr = initial_values_bounds(arr, num_quant)\n",
    "    return t_arr"
   ]
  },
  {
   "cell_type": "markdown",
   "metadata": {},
   "source": [
    "### Шаг 1"
   ]
  },
  {
   "cell_type": "markdown",
   "metadata": {},
   "source": [
    "Для каждого кванта i, определляемого интервалом $\\left [ t_{i-1};t_{i} \\right )$ вычисляется среднее значение среди элементов выборки, попавших в этот интервал. Вычисленное среднее присваивается аппроксимирующему значению $y_{i}$:\n",
    "$$\n",
    "y_{i} = \\frac{1}{\\left | Q_{i}(x) \\right |}\\sum_{x_{j}\\in \\left [ t_{i-1};t_{i} \\right )}^{ }x_{j}\n",
    "$$\n",
    "При работе с выборкой эта формула соответствует формуле:\n",
    "$$\n",
    "y_{i} = \\frac{\\int_{t_{i-1}}^{t_{i}}x\\cdot f(x)dx }{\\int_{t_{i-1}}^{t_{i}} f(x)dx }\n",
    "$$"
   ]
  },
  {
   "cell_type": "code",
   "execution_count": 8,
   "metadata": {},
   "outputs": [],
   "source": [
    "#поиск индекса интервала в массиве в которой попадает значение value\n",
    "def find_index_quant(array, value):\n",
    "    num_quant = array.size-1\n",
    "    #получаем индекс ближайщего значения в массиве\n",
    "    idx = (np.abs(array - value)).argmin()\n",
    "    #если value находиться слева от значения в массиве\n",
    "    #то номер кванта будет на 1 меньше\n",
    "    if(value < array[idx]): idx -= 1\n",
    "    if idx == num_quant: idx = num_quant - 1\n",
    "    return idx\n",
    "\n",
    "def find_quant(array, value):\n",
    "    idx = (np.abs(array - value)).argmin()\n",
    "    return array[idx]\n",
    "#подсчитывает кол-во значений из source_arr которые покадают в каждый интервал из границ t_arr\n",
    "#складывает их и вычисляет среднее значение\n",
    "def average_value_elements(source_arr, t_arr):\n",
    "    num_quant = t_arr.size-1 #количество квантов\n",
    "    count_sample_arr = np.zeros(num_quant, dtype=int) #тут будет храниться кол-во попадений элемента в квант\n",
    "    summ_sample_arr = np.zeros(num_quant) #тут будет храниться сумма этих элементов\n",
    "    \n",
    "    #подсчитываем сколько значений из выборки попадает в каждый квант\n",
    "    for i in range(num_quant):   \n",
    "        for j in range(source_arr.size):\n",
    "            #интервал кванта закрыт справа [t_arr[i],t_arr[i+1])\n",
    "            if (t_arr[i] <= source_arr[j] < t_arr[i+1]):\n",
    "                count_sample_arr[i] += 1 #инкременируем счетчик\n",
    "                summ_sample_arr[i] += source_arr[j]\n",
    "            #исключение первый и последний квант\n",
    "            if ((i == 0 and source_arr[j] < t_arr[i]) \n",
    "                or (i == (num_quant - 1) and source_arr[j] >= t_arr[i+1])):\n",
    "                count_sample_arr[i] += 1 #инкременируем счетчик\n",
    "                summ_sample_arr[i] += source_arr[j]  \n",
    "                \n",
    "    #print (count_sample_arr)\n",
    "    for i in range(num_quant):\n",
    "        #если в квант не попало ни одного значения\n",
    "        if count_sample_arr[i] == 0: \n",
    "            #копируем значения с предыдущего кванта \n",
    "            count_sample_arr[i] = count_sample_arr[i-1]\n",
    "            summ_sample_arr[i] = summ_sample_arr[i-1]   \n",
    "    Ave_arr = summ_sample_arr/count_sample_arr   \n",
    "    return Ave_arr\n",
    "\n",
    "# возвраoает квантованный массив y_arr и массив содержащий кванты которые будут \n",
    "# использоваться на следущей итерации k+1\n",
    "def lloid_step_1(source_arr, t_arr):\n",
    "    quant_arr = average_value_elements(source_arr, t_arr)\n",
    "    #quant_arr - содержит кванты. Теперь нам нужно отквантовать исходный массив квантами quant_arr\n",
    "    y_arr = np.zeros(source_arr.shape, dtype = quant_arr.dtype)\n",
    "    for i in range(source_arr.size):\n",
    "        y_arr[i] = find_quant(quant_arr, source_arr[i])\n",
    "    return y_arr, quant_arr"
   ]
  },
  {
   "cell_type": "markdown",
   "metadata": {},
   "source": [
    "### шаг 2"
   ]
  },
  {
   "cell_type": "markdown",
   "metadata": {},
   "source": [
    "Вычисление ошибки квантования $\\varepsilon _{X}^{2}$ на текущей итерации k в соответствии с текущими аппроксимирующими значениями $y_{i}$ и границами $t_{i}$:\n",
    "$$\n",
    "\\varepsilon _{X}^{2} = \\sum_{j=1}^{M}(x_{j}-Q(x_{j}))^{2}\n",
    "$$\n",
    "где M - размер исходной выборки  <br />\n",
    "При работе с выборкой эта формула соответствует : $ \\varepsilon _{X}^{2} = \\int_{-\\infty }^{\\infty}e^{2}(x)\\cdot f(x)dx = \\int_{-\\infty }^{\\infty}\\left \\| x-Q(x) \\right \\|^{2}\\cdot f(x)dx $\n",
    "\n",
    "\n",
    "$$\n",
    "Q(x_{j})=y_{s}  \\qquad  x_{j}\\in \\left [t_{s-1},t_{s}  \\right )\n",
    "$$\n",
    "$Q(x_{j})$ определяет правило выбора аппраксимирующего значения по кванту в который попалдает  $x_{j}$"
   ]
  },
  {
   "cell_type": "code",
   "execution_count": 9,
   "metadata": {},
   "outputs": [],
   "source": [
    "#поиск ближайшего значения в массиве\n",
    "def find_nearest(array, value):\n",
    "    idx = (np.abs(array - value)).argmin()\n",
    "    return array[idx]\n",
    "\n",
    "def lloid_step_2(source_arr, y_arr):\n",
    "    quantizing_error = 0.0\n",
    "    for i in range(source_arr.size):\n",
    "        q = find_nearest(y_arr,source_arr[i])\n",
    "        quantizing_error += (source_arr[i]- q)**2\n",
    "    return quantizing_error"
   ]
  },
  {
   "cell_type": "markdown",
   "metadata": {},
   "source": [
    "### шаг 3"
   ]
  },
  {
   "cell_type": "markdown",
   "metadata": {},
   "source": [
    "Анализ условий останова:\n",
    "$$\n",
    "\\varepsilon _{X}^{2}(k) < T_{\\varepsilon ^{2}}\n",
    "$$\n",
    "$$\n",
    "\\varepsilon _{X}^{2}(k) - \\varepsilon _{X}^{2}(k-1) < \\Delta _{\\varepsilon ^{2}}\n",
    "$$\n",
    "$$\n",
    "k == T_{k}\n",
    "$$\n",
    "Если одно из вышеперечисленных условий выполняется, то алгоритм завершает свою работу"
   ]
  },
  {
   "cell_type": "code",
   "execution_count": 10,
   "metadata": {},
   "outputs": [],
   "source": [
    "# t_err - предустановленный порог для ошибки квантования; \n",
    "# delta_err - предустановленный порог для разности ошибок квантования на текущей (k) и предыдущей (k-1) итерациях; \n",
    "# t_k - предустановленный порог для максимального числа итераций; \n",
    "def lloid_step_3(t_err = 0, delta_err = 0, t_k = 0, err = 0, err_last = 0, k = 0):\n",
    "    if err < t_err : return \"ошибка квантования меньше порога\"\n",
    "    if abs(err - err_last < delta_err) : return \"разница ошибок квантования меньше порога\"\n",
    "    if k == T_k : return \"превышено кол-во итераций\"\n",
    "    return \"продолжаем квантование\""
   ]
  },
  {
   "cell_type": "markdown",
   "metadata": {},
   "source": [
    "### шаг 4"
   ]
  },
  {
   "cell_type": "markdown",
   "metadata": {},
   "source": [
    "Установка значений границ $t_{i}$ по формуле:\n",
    "$$\n",
    "t_{i} = \\frac{y_{i+1} + y_{i}}{2}\n",
    "$$"
   ]
  },
  {
   "cell_type": "code",
   "execution_count": 11,
   "metadata": {},
   "outputs": [],
   "source": [
    "def lloid_step_4(y_arr, num_quant):\n",
    "    #устанавливаем значения границ квантов\n",
    "    y_arr = np.sort(y_arr)\n",
    "    #порогов на 1 больше. к примеру 2 кванта, три пороговых значения: (1)минимальное - (2)промежуточное - (3)максимальное\n",
    "    t_arr = np.zeros(num_quant+1) \n",
    "    t_arr[0] = np.min(y_arr)\n",
    "    t_arr[-1] = np.max(y_arr)\n",
    "    \n",
    "    for i in range(1, t_arr.size-1):\n",
    "        t_arr[i] = (y_arr[i] + y_arr[i-1])/2\n",
    "    return t_arr"
   ]
  },
  {
   "cell_type": "markdown",
   "metadata": {},
   "source": [
    "### Сам алгоритм квантования Ллоида-Макса"
   ]
  },
  {
   "cell_type": "code",
   "execution_count": 21,
   "metadata": {},
   "outputs": [
    {
     "name": "stdout",
     "output_type": "stream",
     "text": [
      "Старт квантования\n",
      "ошибка квантования меньше порога\n",
      "Квантование завершено!\n",
      "\n",
      "\n"
     ]
    }
   ],
   "source": [
    "# T_err - предустановленный порог для ошибки квантования; \n",
    "# Delta_err - предустановленный порог для разности ошибок квантования на текущей (k) и предыдущей (k-1) итерациях; \n",
    "# T_k - предустановленный порог для максимального числа итераций; \n",
    "T_err = 10\n",
    "Delta_err = 1\n",
    "T_k = 5\n",
    "def quant_lloid(source_arr, num_quant):\n",
    "    print (\"Старт квантования\")\n",
    "    k = 1\n",
    "    t_arr = lloid_init(source_arr, num_quant)\n",
    "    quantizing_error_last = 0\n",
    "    result = None\n",
    "    samples_arr = source_arr\n",
    "    while(1):\n",
    "#         print (\"Итерация №\", k)\n",
    "#         print (\"Квантуем массив:\\n\", quant_arr)       \n",
    "#         print (\"Границы квантования:\\n\", t_arr)\n",
    "        #определям кванты и квантуем исходный массив\n",
    "        y_arr, quant_arr = lloid_step_1(source_arr, t_arr)\n",
    "        #определяем ошибку квантования\n",
    "        quantizing_error = lloid_step_2(source_arr, y_arr)\n",
    "        #print (\"Ошибка квантования: \", quantizing_error)\n",
    "        err = lloid_step_3(t_err = T_err, delta_err = Delta_err, \n",
    "                           t_k = T_k, err = quantizing_error, \n",
    "                           err_last = quantizing_error_last, k = k)\n",
    "        if err != \"продолжаем квантование\":\n",
    "            print (err)\n",
    "            print (\"Квантование завершено!\")\n",
    "            result = y_arr\n",
    "            break\n",
    "        samples_arr = y_arr    \n",
    "        t_arr = lloid_step_4(quant_arr, num_quant)               \n",
    "        quantizing_error_last = quantizing_error\n",
    "        k += 1\n",
    "    return result\n",
    "\n",
    "\n",
    "LloidQuantArr = quant_lloid(SamplesArr, 8)"
   ]
  },
  {
   "cell_type": "markdown",
   "metadata": {},
   "source": [
    "# Найти среднеквадратичную ошибку и энтропию"
   ]
  },
  {
   "cell_type": "code",
   "execution_count": 13,
   "metadata": {},
   "outputs": [
    {
     "name": "stdout",
     "output_type": "stream",
     "text": [
      "Среднеквадратичная ошибка:  0.029540956502477997\n",
      "Энтропия исходного массива 47.666382033709965\n",
      "Энтропия квантованного массива 47.67447484034431\n"
     ]
    }
   ],
   "source": [
    "LloidMSE = np.sum((SamplesArr - LloidQuantArr)**2)/SamplesArr.size \n",
    "\n",
    "print(\"Среднеквадратичная ошибка: \", LloidMSE) \n",
    "print(\"Энтропия исходного массива\",entropy(SamplesArr))\n",
    "print(\"Энтропия квантованного массива\",entropy(LloidQuantArr))"
   ]
  },
  {
   "cell_type": "markdown",
   "metadata": {},
   "source": [
    "# Алгоритм Линде-Бузо-Грея "
   ]
  },
  {
   "cell_type": "markdown",
   "metadata": {},
   "source": [
    "### Инициализация"
   ]
  },
  {
   "cell_type": "markdown",
   "metadata": {},
   "source": [
    "Формируем кодовую книгу $\\bar{y}$ из 8 векторов исходной выборки произвольным образом"
   ]
  },
  {
   "cell_type": "code",
   "execution_count": 14,
   "metadata": {},
   "outputs": [],
   "source": [
    "def init_codebook(source_vectors,len_codebook):\n",
    "    #размер вектора (2 элемента в нашем случае)\n",
    "    len_vector = source_vectors.shape[1]\n",
    "    #случайно выбираем индексы векторов из исходной выборки для создания кодовой книги\n",
    "    indexes = np.random.choice(range(source_vectors.shape[0]), len_codebook, replace=False)\n",
    "    #print(\"indexes:\\n\",indexes)\n",
    "    #создаем массив кодовой книги из len_codebook слов по len_vector элемента\n",
    "    codebook = np.zeros(shape = (len_codebook,len_vector), dtype = source_vectors.dtype)\n",
    "    \n",
    "    for i in range(len_codebook):\n",
    "        codebook[i,:] = source_vectors[indexes[i],:]\n",
    "    return codebook"
   ]
  },
  {
   "cell_type": "markdown",
   "metadata": {},
   "source": [
    "### шаг 1"
   ]
  },
  {
   "cell_type": "markdown",
   "metadata": {},
   "source": [
    "Вычисление ошибки квантования $\\varepsilon _{X}^{2}$ на текущей итерации k с использованием кодовой книги $\\left \\{ \\bar{y} \\right \\}$:\n",
    "$$\n",
    "\\varepsilon _{X}^{2} = \\sum_{j=1}^{M}\\left \\| \\bar{x_{j}}-Q(\\bar{x_{j}}) \\right \\|^{2}\n",
    "$$\n",
    "где M - размер исходной выборки  <br />\n",
    "При работе с выборкой эта формула соответствует : $ \\varepsilon _{X}^{2} = \\int_{-\\infty }^{\\infty}e^{2}(x)\\cdot f(x)dx = \\int_{-\\infty }^{\\infty}\\left \\| x-Q(x) \\right \\|^{2}\\cdot f(x)dx $\n",
    "\n",
    "\n",
    "$$\n",
    "Q(\\bar{x_{j}})=\\bar{y_{s}}  :s = argmin_{i}\\left \\{ \\left \\|\\bar{x_{j}}-\\bar{y_{i}}  \\right \\|^{2} \\right \\} \n",
    "$$"
   ]
  },
  {
   "cell_type": "code",
   "execution_count": 15,
   "metadata": {},
   "outputs": [],
   "source": [
    "#возврашает индекс и расстояние до ближайшего из массива векторов (по евклидову расстоянию) \n",
    "#к вектору vector\n",
    "def nearest_ind(samples, vector):\n",
    "    len_samples = samples.shape[0]\n",
    "    #для каждого вектора массива samples определяем расстояние до vector\n",
    "    #для этого создаем матрицy в которой будем хранить расстояния\n",
    "    distances = np.zeros((len_samples,))\n",
    "    for i in range(len_samples): \n",
    "        distances[i] = np.linalg.norm(samples[i] - vector, ord=2)\n",
    "    #определяем наиболее близкий по евклидову растоянию вектор из массива samples\n",
    "    idx = np.argmin(distances) #номер ближайшего вектора из массива samples\n",
    "    distance = distances[idx]\n",
    "    return idx,distance\n",
    "#возврашает ошибку квантования и квантованный массив на текущей итерации\n",
    "def lbg_step_1(samples, codebook):\n",
    "    len_samples = samples.shape[0]\n",
    "    len_codebook = codebook.shape[0]    \n",
    "    #создаем список Q размерностью исходного массива samples. В каждой ячейке которого\n",
    "    #запишем соответствующий вектор исходного массива, и ближайший к нему (по евклидову расстоянию) вектор из кодовой книги\n",
    "    #и само расстояние\n",
    "    null_vector = np.zeros_like(codebook[0,...])\n",
    "    QList = [\n",
    "             {'исходный вектор': null_vector,\n",
    "              'ближайший вектор': null_vector,\n",
    "              'расстояние': 0.} \n",
    "             for i in range(len_samples)\n",
    "             ]\n",
    "    \n",
    "    for i in range(len_samples):\n",
    "        QList[i]['исходный вектор'] = samples[i]\n",
    "        #ищем ближайший вектор из кодовой книги\n",
    "        idx,distance = nearest_ind(codebook, samples[i])\n",
    "        QList[i]['ближайший вектор'] = codebook[idx]\n",
    "        QList[i]['расстояние'] = distance\n",
    "    #вычисляем ошибку квантования с использованием кодовой книги\n",
    "    distances = np.array([item['расстояние'] for item in QList])\n",
    "    samples_y = np.array([item['ближайший вектор'] for item in QList])\n",
    "    quantizing_error = np.sum(distances**2)\n",
    "    return quantizing_error,samples_y"
   ]
  },
  {
   "cell_type": "markdown",
   "metadata": {},
   "source": [
    "### шаг 2"
   ]
  },
  {
   "cell_type": "markdown",
   "metadata": {},
   "source": [
    "Анализ условий останова:\n",
    "$$\n",
    "\\varepsilon _{X}^{2}(k) < T_{\\varepsilon ^{2}}\n",
    "$$\n",
    "$$\n",
    "\\varepsilon _{X}^{2}(k) - \\varepsilon _{X}^{2}(k-1) < \\Delta _{\\varepsilon ^{2}}\n",
    "$$\n",
    "$$\n",
    "k == T_{k}\n",
    "$$\n",
    "Если одно из вышеперечисленных условий выполняется, то алгоритм завершает свою работу"
   ]
  },
  {
   "cell_type": "code",
   "execution_count": 16,
   "metadata": {},
   "outputs": [],
   "source": [
    "# t_err - предустановленный порог для ошибки квантования; \n",
    "# delta_err - предустановленный порог для разности ошибок квантования на текущей (k) и предыдущей (k-1) итерациях; \n",
    "# t_k - предустановленный порог для максимального числа итераций; \n",
    "def lbg_step_2(t_err = 0, delta_err = 0, t_k = 0, err = 0, err_last = 0, k = 0):\n",
    "    if err < t_err : return \"ошибка квантования меньше порога\"\n",
    "    if abs(err - err_last) < delta_err : return \"разница ошибок квантования меньше порога\"\n",
    "    if k == T_k : return \"превышено кол-во итераций\"\n",
    "    return \"продолжаем квантование\""
   ]
  },
  {
   "cell_type": "markdown",
   "metadata": {},
   "source": [
    "### шаг 3"
   ]
  },
  {
   "cell_type": "markdown",
   "metadata": {},
   "source": [
    "Формируем новую кодовую книгу, которая будет использоваться на следующей итерации K + 1"
   ]
  },
  {
   "cell_type": "code",
   "execution_count": 17,
   "metadata": {},
   "outputs": [],
   "source": [
    "def lbg_step_3(source_vectors, codebook):\n",
    "    len_vectors = source_vectors.shape[0]\n",
    "    len_codebook = codebook.shape[0]\n",
    "    \n",
    "    #создадим пустой список где будем хранить для каждого аппроксимирующего вектора(из кодовой книги) ближайшие вектора из выборки,\n",
    "    #их сумму, кол-во\n",
    "    vector = np.zeros_like(codebook[0,...])\n",
    "    list_test = [\n",
    "                 {'сумма': np.zeros_like(codebook[0,...]), 'кол-во': 0, 'вектора': [], 'среднее': np.zeros_like(codebook[0,...]),} \n",
    "                 for i in range(len_codebook)\n",
    "                 ]\n",
    "    #для каждого вектора исходной выборки\n",
    "    for i in range(len_vectors):        \n",
    "        #определяем наиболее близкий по евклидову растоянию аппроксимирующий вектор\n",
    "        distances = np.zeros((len_codebook,)) #матрица расстояний векторов кодовой книги и source_vectors[i]\n",
    "        for j in range(len_codebook):\n",
    "            distances[j] = np.linalg.norm(codebook[j] - source_vectors[i])\n",
    "        idx = np.argmin(distances) #номер ближайшего вектора из кодовой книги\n",
    "        #складываем ближайшие вектора из выборки, для последующего вычисления нового аппроксимирующего вектора (среднего вектора) \n",
    "        list_test[idx]['сумма'] += source_vectors[i]\n",
    "        #считаем кол-во ближайших векторов из выборки, для последующего вычисления нового аппроксимирующего вектора (среднего вектора) \n",
    "        list_test[idx]['кол-во'] += 1\n",
    "        list_test[idx]['вектора'].append(source_vectors[i])\n",
    "    #рассчитываем новую кодовую книгу\n",
    "    new_codebook = np.zeros_like(codebook)\n",
    "    for i in range(len_codebook): \n",
    "        list_test[i]['среднее'] = list_test[i]['сумма']/list_test[i]['кол-во']\n",
    "        new_codebook = np.array([item['среднее'] for item in list_test])\n",
    "    return new_codebook"
   ]
  },
  {
   "cell_type": "markdown",
   "metadata": {},
   "source": [
    "### Сам алгоритм квантования Линде-Бузо-Грея"
   ]
  },
  {
   "cell_type": "code",
   "execution_count": 20,
   "metadata": {},
   "outputs": [
    {
     "name": "stdout",
     "output_type": "stream",
     "text": [
      "Старт квантования\n",
      "разница ошибок квантования меньше порога\n",
      "Квантование завершено!\n",
      "\n",
      "\n",
      "Среднеквадратичная ошибка:  0.0963599063731849\n",
      "Энтропия исходного массива 47.666382033709965\n",
      "Энтропия квантованного массива 48.13041361300463\n"
     ]
    }
   ],
   "source": [
    "# T_err - предустановленный порог для ошибки квантования; \n",
    "# Delta_err - предустановленный порог для разности ошибок квантования на текущей (k) и предыдущей (k-1) итерациях; \n",
    "# T_k - предустановленный порог для максимального числа итераций; \n",
    "T_err = 0.00000001\n",
    "Delta_err = 0.0000000001\n",
    "T_k = 50\n",
    "def quant_lbg(source_arr, len_codebook, len_vector):\n",
    "    print (\"Старт квантования\")\n",
    "    k = 1\n",
    "    #преобразуем массив в векторное пространство \n",
    "    samples_vectors = np.resize(source_arr,(source_arr.size//len_vector,len_vector))\n",
    "    #формируем кодовую книгу из len_codebook векторов произвольным образом\n",
    "    code_book = init_codebook(samples_vectors,len_codebook)\n",
    "    quantizing_error_last = 0\n",
    "    quant_samples_vectors = samples_vectors\n",
    "    while(1):\n",
    "        #получаем ошибку квантования и квантованный массив\n",
    "        quantizing_error, quant_samples_vectors = lbg_step_1(samples_vectors, code_book)\n",
    "        err = lbg_step_2(t_err = T_err, delta_err = Delta_err, \n",
    "                         t_k = T_k, err = quantizing_error, \n",
    "                         err_last = quantizing_error_last, \n",
    "                         k = k)\n",
    "        if err != \"продолжаем квантование\":\n",
    "            print (err)\n",
    "            print (\"Квантование завершено!\\n\\n\")\n",
    "            result = code_book\n",
    "            break\n",
    "            \n",
    "        new_codebook = lbg_step_3(samples_vectors, code_book) \n",
    "        code_book = new_codebook    \n",
    "        quantizing_error_last = quantizing_error\n",
    "        k += 1\n",
    "        \n",
    "    quant_samples = np.resize(quant_samples_vectors, source_arr.shape)    \n",
    "    return quant_samples\n",
    "\n",
    "\n",
    "LGBQuantArr = quant_lbg(SamplesArr,8,2)\n",
    "LGBMSE = np.sum((SamplesArr - LGBQuantArr)**2)/SamplesArr.size \n",
    "\n",
    "\n",
    "print(\"Среднеквадратичная ошибка: \", LGBMSE) \n",
    "print(\"Энтропия исходного массива\",entropy(SamplesArr))\n",
    "print(\"Энтропия квантованного массива\",entropy(LGBQuantArr))"
   ]
  },
  {
   "cell_type": "code",
   "execution_count": null,
   "metadata": {},
   "outputs": [],
   "source": []
  }
 ],
 "metadata": {
  "kernelspec": {
   "display_name": "Python 3",
   "language": "python",
   "name": "python3"
  },
  "language_info": {
   "codemirror_mode": {
    "name": "ipython",
    "version": 3
   },
   "file_extension": ".py",
   "mimetype": "text/x-python",
   "name": "python",
   "nbconvert_exporter": "python",
   "pygments_lexer": "ipython3",
   "version": "3.6.5"
  }
 },
 "nbformat": 4,
 "nbformat_minor": 2
}
